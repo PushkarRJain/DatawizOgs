{
 "cells": [
  {
   "cell_type": "code",
   "execution_count": 121,
   "metadata": {},
   "outputs": [],
   "source": [
    "import pandas as pd\n",
    "import random"
   ]
  },
  {
   "cell_type": "code",
   "execution_count": 122,
   "metadata": {},
   "outputs": [],
   "source": [
    "df = pd.read_csv('tm.csv')"
   ]
  },
  {
   "cell_type": "code",
   "execution_count": 123,
   "metadata": {},
   "outputs": [
    {
     "data": {
      "text/plain": [
       "Index(['ToiletID', 'URL', 'Name', 'Address1', 'Town', 'State', 'Postcode',\n",
       "       'AddressNote', 'Male', 'Female', 'Unisex', 'DumpPoint', 'FacilityType',\n",
       "       'ToiletType', 'AccessLimited', 'PaymentRequired', 'KeyRequired',\n",
       "       'AccessNote', 'Parking', 'ParkingNote', 'AccessibleMale',\n",
       "       'AccessibleFemale', 'AccessibleUnisex', 'AccessibleNote', 'MLAK',\n",
       "       'ParkingAccessible', 'AccessibleParkingNote', 'Ambulant', 'LHTransfer',\n",
       "       'RHTransfer', 'AdultChange', 'ChangingPlaces', 'IsOpen',\n",
       "       'OpeningHoursSchedule', 'OpeningHoursNote', 'BabyChange',\n",
       "       'BabyCareRoom', 'Showers', 'DrinkingWater', 'SharpsDisposal',\n",
       "       'SanitaryDisposal', 'IconURL', 'IconAltText', 'Notes', 'Status',\n",
       "       'Latitude', 'Longitude'],\n",
       "      dtype='object')"
      ]
     },
     "execution_count": 123,
     "metadata": {},
     "output_type": "execute_result"
    }
   ],
   "source": [
    "df.columns"
   ]
  },
  {
   "cell_type": "code",
   "execution_count": 124,
   "metadata": {},
   "outputs": [
    {
     "name": "stdout",
     "output_type": "stream",
     "text": [
      "ToiletID has 0 null values\n",
      "URL has 0 null values\n",
      "Name has 0 null values\n",
      "Address1 has 0 null values\n",
      "Town has 0 null values\n",
      "State has 0 null values\n",
      "Postcode has 476 null values\n",
      "AddressNote has 15525 null values\n",
      "Male has 0 null values\n",
      "Female has 0 null values\n",
      "Unisex has 0 null values\n",
      "DumpPoint has 0 null values\n",
      "FacilityType has 3330 null values\n",
      "ToiletType has 8974 null values\n",
      "AccessLimited has 0 null values\n",
      "PaymentRequired has 0 null values\n",
      "KeyRequired has 0 null values\n",
      "AccessNote has 16996 null values\n",
      "Parking has 0 null values\n",
      "ParkingNote has 17210 null values\n",
      "AccessibleMale has 0 null values\n",
      "AccessibleFemale has 0 null values\n",
      "AccessibleUnisex has 0 null values\n",
      "AccessibleNote has 16071 null values\n",
      "MLAK has 0 null values\n",
      "ParkingAccessible has 0 null values\n",
      "AccessibleParkingNote has 17210 null values\n",
      "Ambulant has 0 null values\n",
      "LHTransfer has 0 null values\n",
      "RHTransfer has 0 null values\n",
      "AdultChange has 0 null values\n",
      "ChangingPlaces has 0 null values\n",
      "IsOpen has 0 null values\n",
      "OpeningHoursSchedule has 14040 null values\n",
      "OpeningHoursNote has 15284 null values\n",
      "BabyChange has 0 null values\n",
      "BabyCareRoom has 0 null values\n",
      "Showers has 0 null values\n",
      "DrinkingWater has 0 null values\n",
      "SharpsDisposal has 0 null values\n",
      "SanitaryDisposal has 0 null values\n",
      "IconURL has 0 null values\n",
      "IconAltText has 12 null values\n",
      "Notes has 16598 null values\n",
      "Status has 0 null values\n",
      "Latitude has 0 null values\n",
      "Longitude has 0 null values\n"
     ]
    }
   ],
   "source": [
    "for i in range(0,len(df.columns)):\n",
    "    print(\"{} has {} null values\".format(df.columns[i],df[df.columns[i]].isnull().sum()))"
   ]
  },
  {
   "cell_type": "markdown",
   "metadata": {},
   "source": [
    "**If the Number of null values is greater than 10000, we simply drop that column**"
   ]
  },
  {
   "cell_type": "code",
   "execution_count": 127,
   "metadata": {},
   "outputs": [],
   "source": [
    "lt = len(df.columns)\n",
    "for i in range(0,lt):\n",
    "    if df[df.columns[i]].isnull().sum() > 10000:\n",
    "        df.drop([df.columns[i]],axis=1,inplace=True)\n",
    "        "
   ]
  },
  {
   "cell_type": "code",
   "execution_count": 128,
   "metadata": {},
   "outputs": [
    {
     "data": {
      "text/plain": [
       "Index(['ToiletID', 'URL', 'Name', 'Address1', 'Town', 'State', 'Postcode',\n",
       "       'Male', 'Female', 'Unisex', 'DumpPoint', 'FacilityType', 'ToiletType',\n",
       "       'AccessLimited', 'PaymentRequired', 'KeyRequired', 'Parking',\n",
       "       'AccessibleMale', 'AccessibleFemale', 'AccessibleUnisex', 'MLAK',\n",
       "       'ParkingAccessible', 'Ambulant', 'LHTransfer', 'RHTransfer',\n",
       "       'AdultChange', 'ChangingPlaces', 'IsOpen', 'BabyChange', 'BabyCareRoom',\n",
       "       'Showers', 'DrinkingWater', 'SharpsDisposal', 'SanitaryDisposal',\n",
       "       'IconURL', 'IconAltText', 'Status', 'Latitude', 'Longitude'],\n",
       "      dtype='object')"
      ]
     },
     "execution_count": 128,
     "metadata": {},
     "output_type": "execute_result"
    }
   ],
   "source": [
    "df.columns"
   ]
  },
  {
   "cell_type": "code",
   "execution_count": 129,
   "metadata": {},
   "outputs": [
    {
     "name": "stdout",
     "output_type": "stream",
     "text": [
      "Postcode\n",
      "FacilityType\n",
      "ToiletType\n",
      "IconAltText\n"
     ]
    }
   ],
   "source": [
    "for i in range(0,len(df.columns)):\n",
    "    if df[df.columns[i]].isnull().sum()>0:\n",
    "        print(df.columns[i])"
   ]
  },
  {
   "cell_type": "code",
   "execution_count": 130,
   "metadata": {},
   "outputs": [],
   "source": [
    "PostcodeList = df['Postcode'].dropna().unique()"
   ]
  },
  {
   "cell_type": "code",
   "execution_count": 131,
   "metadata": {},
   "outputs": [],
   "source": [
    "df['Postcode'].fillna(random.choice(PostcodeList),inplace =True)"
   ]
  },
  {
   "cell_type": "code",
   "execution_count": 132,
   "metadata": {},
   "outputs": [
    {
     "name": "stdout",
     "output_type": "stream",
     "text": [
      "FacilityType\n",
      "ToiletType\n",
      "IconAltText\n"
     ]
    }
   ],
   "source": [
    "for i in range(0,len(df.columns)):\n",
    "    if df[df.columns[i]].isnull().sum()>0:\n",
    "        print(df.columns[i])"
   ]
  },
  {
   "cell_type": "code",
   "execution_count": 133,
   "metadata": {},
   "outputs": [],
   "source": [
    "df['FacilityType'].fillna('Other Facility',inplace =True)"
   ]
  },
  {
   "cell_type": "code",
   "execution_count": 134,
   "metadata": {},
   "outputs": [
    {
     "name": "stdout",
     "output_type": "stream",
     "text": [
      "ToiletType\n",
      "IconAltText\n"
     ]
    }
   ],
   "source": [
    "for i in range(0,len(df.columns)):\n",
    "    if df[df.columns[i]].isnull().sum()>0:\n",
    "        print(df.columns[i])"
   ]
  },
  {
   "cell_type": "code",
   "execution_count": 135,
   "metadata": {},
   "outputs": [
    {
     "data": {
      "text/plain": [
       "array(['Sewerage', 'Septic', 'Drop toilet', 'Compost', 'Sealed Vault',\n",
       "       'Automatic', 'Pit'], dtype=object)"
      ]
     },
     "execution_count": 135,
     "metadata": {},
     "output_type": "execute_result"
    }
   ],
   "source": [
    "ToiletTypeList = df['ToiletType'].dropna().unique()\n",
    "IconAltTextList = df['IconAltText'].dropna().unique()\n",
    "ToiletTypeList"
   ]
  },
  {
   "cell_type": "code",
   "execution_count": 136,
   "metadata": {},
   "outputs": [],
   "source": [
    "df['ToiletType'].fillna(random.choice(ToiletTypeList),inplace =True)"
   ]
  },
  {
   "cell_type": "code",
   "execution_count": 137,
   "metadata": {},
   "outputs": [
    {
     "data": {
      "text/plain": [
       "0"
      ]
     },
     "execution_count": 137,
     "metadata": {},
     "output_type": "execute_result"
    }
   ],
   "source": [
    "df['ToiletType'].isnull().sum()"
   ]
  },
  {
   "cell_type": "code",
   "execution_count": 138,
   "metadata": {},
   "outputs": [],
   "source": [
    "df['IconAltText'].fillna(random.choice(IconAltTextList),inplace =True)"
   ]
  },
  {
   "cell_type": "code",
   "execution_count": 139,
   "metadata": {},
   "outputs": [],
   "source": [
    "for i in range(0,len(df.columns)):\n",
    "    if df[df.columns[i]].isnull().sum()>0:\n",
    "        print(df.columns[i])"
   ]
  },
  {
   "cell_type": "code",
   "execution_count": 140,
   "metadata": {},
   "outputs": [
    {
     "name": "stdout",
     "output_type": "stream",
     "text": [
      "ToiletID has 0 null values\n",
      "URL has 0 null values\n",
      "Name has 0 null values\n",
      "Address1 has 0 null values\n",
      "Town has 0 null values\n",
      "State has 0 null values\n",
      "Postcode has 0 null values\n",
      "Male has 0 null values\n",
      "Female has 0 null values\n",
      "Unisex has 0 null values\n",
      "DumpPoint has 0 null values\n",
      "FacilityType has 0 null values\n",
      "ToiletType has 0 null values\n",
      "AccessLimited has 0 null values\n",
      "PaymentRequired has 0 null values\n",
      "KeyRequired has 0 null values\n",
      "Parking has 0 null values\n",
      "AccessibleMale has 0 null values\n",
      "AccessibleFemale has 0 null values\n",
      "AccessibleUnisex has 0 null values\n",
      "MLAK has 0 null values\n",
      "ParkingAccessible has 0 null values\n",
      "Ambulant has 0 null values\n",
      "LHTransfer has 0 null values\n",
      "RHTransfer has 0 null values\n",
      "AdultChange has 0 null values\n",
      "ChangingPlaces has 0 null values\n",
      "IsOpen has 0 null values\n",
      "BabyChange has 0 null values\n",
      "BabyCareRoom has 0 null values\n",
      "Showers has 0 null values\n",
      "DrinkingWater has 0 null values\n",
      "SharpsDisposal has 0 null values\n",
      "SanitaryDisposal has 0 null values\n",
      "IconURL has 0 null values\n",
      "IconAltText has 0 null values\n",
      "Status has 0 null values\n",
      "Latitude has 0 null values\n",
      "Longitude has 0 null values\n"
     ]
    }
   ],
   "source": [
    "for i in range(0,len(df.columns)):\n",
    "    print(\"{} has {} null values\".format(df.columns[i],df[df.columns[i]].isnull().sum()))"
   ]
  },
  {
   "cell_type": "code",
   "execution_count": 141,
   "metadata": {},
   "outputs": [
    {
     "data": {
      "text/html": [
       "<div>\n",
       "<style scoped>\n",
       "    .dataframe tbody tr th:only-of-type {\n",
       "        vertical-align: middle;\n",
       "    }\n",
       "\n",
       "    .dataframe tbody tr th {\n",
       "        vertical-align: top;\n",
       "    }\n",
       "\n",
       "    .dataframe thead th {\n",
       "        text-align: right;\n",
       "    }\n",
       "</style>\n",
       "<table border=\"1\" class=\"dataframe\">\n",
       "  <thead>\n",
       "    <tr style=\"text-align: right;\">\n",
       "      <th></th>\n",
       "      <th>ToiletID</th>\n",
       "      <th>URL</th>\n",
       "      <th>Name</th>\n",
       "      <th>Address1</th>\n",
       "      <th>Town</th>\n",
       "      <th>State</th>\n",
       "      <th>Postcode</th>\n",
       "      <th>Male</th>\n",
       "      <th>Female</th>\n",
       "      <th>Unisex</th>\n",
       "      <th>...</th>\n",
       "      <th>BabyCareRoom</th>\n",
       "      <th>Showers</th>\n",
       "      <th>DrinkingWater</th>\n",
       "      <th>SharpsDisposal</th>\n",
       "      <th>SanitaryDisposal</th>\n",
       "      <th>IconURL</th>\n",
       "      <th>IconAltText</th>\n",
       "      <th>Status</th>\n",
       "      <th>Latitude</th>\n",
       "      <th>Longitude</th>\n",
       "    </tr>\n",
       "  </thead>\n",
       "  <tbody>\n",
       "    <tr>\n",
       "      <th>0</th>\n",
       "      <td>1</td>\n",
       "      <td>https://toiletmap.gov.au/toilet/1</td>\n",
       "      <td>Sandy Beach Reserve</td>\n",
       "      <td>West Road</td>\n",
       "      <td>Bassendean</td>\n",
       "      <td>Western Australia</td>\n",
       "      <td>6054.0</td>\n",
       "      <td>True</td>\n",
       "      <td>True</td>\n",
       "      <td>False</td>\n",
       "      <td>...</td>\n",
       "      <td>False</td>\n",
       "      <td>True</td>\n",
       "      <td>False</td>\n",
       "      <td>True</td>\n",
       "      <td>False</td>\n",
       "      <td>https://toiletmap.gov.au/images/icons/mfa.png</td>\n",
       "      <td>Male and Female, or Unisex (Accessible)</td>\n",
       "      <td>Verified</td>\n",
       "      <td>-31.921836</td>\n",
       "      <td>115.950206</td>\n",
       "    </tr>\n",
       "    <tr>\n",
       "      <th>1</th>\n",
       "      <td>2</td>\n",
       "      <td>https://toiletmap.gov.au/toilet/2</td>\n",
       "      <td>Point Reserve</td>\n",
       "      <td>North Road</td>\n",
       "      <td>Bassendean</td>\n",
       "      <td>Western Australia</td>\n",
       "      <td>6054.0</td>\n",
       "      <td>True</td>\n",
       "      <td>True</td>\n",
       "      <td>False</td>\n",
       "      <td>...</td>\n",
       "      <td>False</td>\n",
       "      <td>False</td>\n",
       "      <td>False</td>\n",
       "      <td>False</td>\n",
       "      <td>False</td>\n",
       "      <td>https://toiletmap.gov.au/images/icons/mfa.png</td>\n",
       "      <td>Male and Female, or Unisex (Accessible)</td>\n",
       "      <td>Verified</td>\n",
       "      <td>-31.904410</td>\n",
       "      <td>115.960991</td>\n",
       "    </tr>\n",
       "    <tr>\n",
       "      <th>2</th>\n",
       "      <td>3</td>\n",
       "      <td>https://toiletmap.gov.au/toilet/3</td>\n",
       "      <td>Success Hill Reserve</td>\n",
       "      <td>Off Seventh Avenue</td>\n",
       "      <td>Bassendean</td>\n",
       "      <td>Western Australia</td>\n",
       "      <td>6054.0</td>\n",
       "      <td>True</td>\n",
       "      <td>True</td>\n",
       "      <td>False</td>\n",
       "      <td>...</td>\n",
       "      <td>False</td>\n",
       "      <td>True</td>\n",
       "      <td>True</td>\n",
       "      <td>True</td>\n",
       "      <td>False</td>\n",
       "      <td>https://toiletmap.gov.au/images/icons/mfa.png</td>\n",
       "      <td>Male and Female, or Unisex (Accessible)</td>\n",
       "      <td>Verified</td>\n",
       "      <td>-31.896289</td>\n",
       "      <td>115.955781</td>\n",
       "    </tr>\n",
       "    <tr>\n",
       "      <th>3</th>\n",
       "      <td>4</td>\n",
       "      <td>https://toiletmap.gov.au/toilet/4</td>\n",
       "      <td>Jubilee Reserve</td>\n",
       "      <td>Robinson Road</td>\n",
       "      <td>Eden Hill</td>\n",
       "      <td>Western Australia</td>\n",
       "      <td>6054.0</td>\n",
       "      <td>True</td>\n",
       "      <td>True</td>\n",
       "      <td>False</td>\n",
       "      <td>...</td>\n",
       "      <td>False</td>\n",
       "      <td>False</td>\n",
       "      <td>False</td>\n",
       "      <td>True</td>\n",
       "      <td>False</td>\n",
       "      <td>https://toiletmap.gov.au/images/icons/mf.png</td>\n",
       "      <td>Male and Female, or Unisex</td>\n",
       "      <td>Verified</td>\n",
       "      <td>-31.891474</td>\n",
       "      <td>115.940164</td>\n",
       "    </tr>\n",
       "    <tr>\n",
       "      <th>4</th>\n",
       "      <td>5</td>\n",
       "      <td>https://toiletmap.gov.au/toilet/5</td>\n",
       "      <td>Ashfield Reserve</td>\n",
       "      <td>Guildford Road</td>\n",
       "      <td>Ashfield</td>\n",
       "      <td>Western Australia</td>\n",
       "      <td>6054.0</td>\n",
       "      <td>True</td>\n",
       "      <td>True</td>\n",
       "      <td>False</td>\n",
       "      <td>...</td>\n",
       "      <td>False</td>\n",
       "      <td>False</td>\n",
       "      <td>False</td>\n",
       "      <td>True</td>\n",
       "      <td>False</td>\n",
       "      <td>https://toiletmap.gov.au/images/icons/mf.png</td>\n",
       "      <td>Male and Female, or Unisex</td>\n",
       "      <td>Verified</td>\n",
       "      <td>-31.913433</td>\n",
       "      <td>115.936477</td>\n",
       "    </tr>\n",
       "    <tr>\n",
       "      <th>...</th>\n",
       "      <td>...</td>\n",
       "      <td>...</td>\n",
       "      <td>...</td>\n",
       "      <td>...</td>\n",
       "      <td>...</td>\n",
       "      <td>...</td>\n",
       "      <td>...</td>\n",
       "      <td>...</td>\n",
       "      <td>...</td>\n",
       "      <td>...</td>\n",
       "      <td>...</td>\n",
       "      <td>...</td>\n",
       "      <td>...</td>\n",
       "      <td>...</td>\n",
       "      <td>...</td>\n",
       "      <td>...</td>\n",
       "      <td>...</td>\n",
       "      <td>...</td>\n",
       "      <td>...</td>\n",
       "      <td>...</td>\n",
       "      <td>...</td>\n",
       "    </tr>\n",
       "    <tr>\n",
       "      <th>18506</th>\n",
       "      <td>55139</td>\n",
       "      <td>https://toiletmap.gov.au/toilet/55139</td>\n",
       "      <td>Blayney Showground</td>\n",
       "      <td>Marshalls Lane</td>\n",
       "      <td>Blayney</td>\n",
       "      <td>New South Wales</td>\n",
       "      <td>2799.0</td>\n",
       "      <td>False</td>\n",
       "      <td>False</td>\n",
       "      <td>True</td>\n",
       "      <td>...</td>\n",
       "      <td>False</td>\n",
       "      <td>True</td>\n",
       "      <td>False</td>\n",
       "      <td>False</td>\n",
       "      <td>False</td>\n",
       "      <td>https://toiletmap.gov.au/images/icons/mfa.png</td>\n",
       "      <td>Male and Female, or Unisex (Accessible)</td>\n",
       "      <td>Unverified</td>\n",
       "      <td>-33.511611</td>\n",
       "      <td>149.252924</td>\n",
       "    </tr>\n",
       "    <tr>\n",
       "      <th>18507</th>\n",
       "      <td>55141</td>\n",
       "      <td>https://toiletmap.gov.au/toilet/55141</td>\n",
       "      <td>Lyndhurst Sports and Recreation Ground</td>\n",
       "      <td>6511 Mid Western Highway</td>\n",
       "      <td>Mandurama</td>\n",
       "      <td>New South Wales</td>\n",
       "      <td>2792.0</td>\n",
       "      <td>False</td>\n",
       "      <td>False</td>\n",
       "      <td>True</td>\n",
       "      <td>...</td>\n",
       "      <td>False</td>\n",
       "      <td>False</td>\n",
       "      <td>False</td>\n",
       "      <td>False</td>\n",
       "      <td>False</td>\n",
       "      <td>https://toiletmap.gov.au/images/icons/mfa.png</td>\n",
       "      <td>Male and Female, or Unisex (Accessible)</td>\n",
       "      <td>Unverified</td>\n",
       "      <td>-33.673092</td>\n",
       "      <td>149.038286</td>\n",
       "    </tr>\n",
       "    <tr>\n",
       "      <th>18508</th>\n",
       "      <td>55143</td>\n",
       "      <td>https://toiletmap.gov.au/toilet/55143</td>\n",
       "      <td>King George Oval</td>\n",
       "      <td>Carcoar Street Blayney NSW 2799</td>\n",
       "      <td>Blayney</td>\n",
       "      <td>New South Wales</td>\n",
       "      <td>2799.0</td>\n",
       "      <td>False</td>\n",
       "      <td>False</td>\n",
       "      <td>True</td>\n",
       "      <td>...</td>\n",
       "      <td>False</td>\n",
       "      <td>False</td>\n",
       "      <td>False</td>\n",
       "      <td>False</td>\n",
       "      <td>False</td>\n",
       "      <td>https://toiletmap.gov.au/images/icons/mfa.png</td>\n",
       "      <td>Male and Female, or Unisex (Accessible)</td>\n",
       "      <td>Unverified</td>\n",
       "      <td>-33.535167</td>\n",
       "      <td>149.249597</td>\n",
       "    </tr>\n",
       "    <tr>\n",
       "      <th>18509</th>\n",
       "      <td>55145</td>\n",
       "      <td>https://toiletmap.gov.au/toilet/55145</td>\n",
       "      <td>King George Oval</td>\n",
       "      <td>Carcoar Street</td>\n",
       "      <td>Blayney</td>\n",
       "      <td>New South Wales</td>\n",
       "      <td>2799.0</td>\n",
       "      <td>False</td>\n",
       "      <td>False</td>\n",
       "      <td>True</td>\n",
       "      <td>...</td>\n",
       "      <td>False</td>\n",
       "      <td>False</td>\n",
       "      <td>False</td>\n",
       "      <td>False</td>\n",
       "      <td>False</td>\n",
       "      <td>https://toiletmap.gov.au/images/icons/mfa.png</td>\n",
       "      <td>Male and Female, or Unisex (Accessible)</td>\n",
       "      <td>Unverified</td>\n",
       "      <td>-33.532719</td>\n",
       "      <td>149.248753</td>\n",
       "    </tr>\n",
       "    <tr>\n",
       "      <th>18510</th>\n",
       "      <td>55147</td>\n",
       "      <td>https://toiletmap.gov.au/toilet/55147</td>\n",
       "      <td>Blayney Shire Community Centre</td>\n",
       "      <td>41 Church Street</td>\n",
       "      <td>Blayney</td>\n",
       "      <td>New South Wales</td>\n",
       "      <td>2799.0</td>\n",
       "      <td>False</td>\n",
       "      <td>False</td>\n",
       "      <td>True</td>\n",
       "      <td>...</td>\n",
       "      <td>False</td>\n",
       "      <td>False</td>\n",
       "      <td>False</td>\n",
       "      <td>False</td>\n",
       "      <td>False</td>\n",
       "      <td>https://toiletmap.gov.au/images/icons/mfa.png</td>\n",
       "      <td>Male and Female, or Unisex (Accessible)</td>\n",
       "      <td>Unverified</td>\n",
       "      <td>-33.530255</td>\n",
       "      <td>149.255096</td>\n",
       "    </tr>\n",
       "  </tbody>\n",
       "</table>\n",
       "<p>18511 rows × 39 columns</p>\n",
       "</div>"
      ],
      "text/plain": [
       "       ToiletID                                    URL  \\\n",
       "0             1      https://toiletmap.gov.au/toilet/1   \n",
       "1             2      https://toiletmap.gov.au/toilet/2   \n",
       "2             3      https://toiletmap.gov.au/toilet/3   \n",
       "3             4      https://toiletmap.gov.au/toilet/4   \n",
       "4             5      https://toiletmap.gov.au/toilet/5   \n",
       "...         ...                                    ...   \n",
       "18506     55139  https://toiletmap.gov.au/toilet/55139   \n",
       "18507     55141  https://toiletmap.gov.au/toilet/55141   \n",
       "18508     55143  https://toiletmap.gov.au/toilet/55143   \n",
       "18509     55145  https://toiletmap.gov.au/toilet/55145   \n",
       "18510     55147  https://toiletmap.gov.au/toilet/55147   \n",
       "\n",
       "                                         Name  \\\n",
       "0                         Sandy Beach Reserve   \n",
       "1                               Point Reserve   \n",
       "2                        Success Hill Reserve   \n",
       "3                             Jubilee Reserve   \n",
       "4                            Ashfield Reserve   \n",
       "...                                       ...   \n",
       "18506                      Blayney Showground   \n",
       "18507  Lyndhurst Sports and Recreation Ground   \n",
       "18508                        King George Oval   \n",
       "18509                        King George Oval   \n",
       "18510         Blayney Shire Community Centre    \n",
       "\n",
       "                              Address1        Town              State  \\\n",
       "0                            West Road  Bassendean  Western Australia   \n",
       "1                           North Road  Bassendean  Western Australia   \n",
       "2                   Off Seventh Avenue  Bassendean  Western Australia   \n",
       "3                        Robinson Road   Eden Hill  Western Australia   \n",
       "4                       Guildford Road    Ashfield  Western Australia   \n",
       "...                                ...         ...                ...   \n",
       "18506                   Marshalls Lane     Blayney    New South Wales   \n",
       "18507         6511 Mid Western Highway   Mandurama    New South Wales   \n",
       "18508  Carcoar Street Blayney NSW 2799     Blayney    New South Wales   \n",
       "18509                   Carcoar Street     Blayney    New South Wales   \n",
       "18510                 41 Church Street     Blayney    New South Wales   \n",
       "\n",
       "       Postcode   Male  Female  Unisex  ...  BabyCareRoom Showers  \\\n",
       "0        6054.0   True    True   False  ...         False    True   \n",
       "1        6054.0   True    True   False  ...         False   False   \n",
       "2        6054.0   True    True   False  ...         False    True   \n",
       "3        6054.0   True    True   False  ...         False   False   \n",
       "4        6054.0   True    True   False  ...         False   False   \n",
       "...         ...    ...     ...     ...  ...           ...     ...   \n",
       "18506    2799.0  False   False    True  ...         False    True   \n",
       "18507    2792.0  False   False    True  ...         False   False   \n",
       "18508    2799.0  False   False    True  ...         False   False   \n",
       "18509    2799.0  False   False    True  ...         False   False   \n",
       "18510    2799.0  False   False    True  ...         False   False   \n",
       "\n",
       "      DrinkingWater  SharpsDisposal  SanitaryDisposal  \\\n",
       "0             False            True             False   \n",
       "1             False           False             False   \n",
       "2              True            True             False   \n",
       "3             False            True             False   \n",
       "4             False            True             False   \n",
       "...             ...             ...               ...   \n",
       "18506         False           False             False   \n",
       "18507         False           False             False   \n",
       "18508         False           False             False   \n",
       "18509         False           False             False   \n",
       "18510         False           False             False   \n",
       "\n",
       "                                             IconURL  \\\n",
       "0      https://toiletmap.gov.au/images/icons/mfa.png   \n",
       "1      https://toiletmap.gov.au/images/icons/mfa.png   \n",
       "2      https://toiletmap.gov.au/images/icons/mfa.png   \n",
       "3       https://toiletmap.gov.au/images/icons/mf.png   \n",
       "4       https://toiletmap.gov.au/images/icons/mf.png   \n",
       "...                                              ...   \n",
       "18506  https://toiletmap.gov.au/images/icons/mfa.png   \n",
       "18507  https://toiletmap.gov.au/images/icons/mfa.png   \n",
       "18508  https://toiletmap.gov.au/images/icons/mfa.png   \n",
       "18509  https://toiletmap.gov.au/images/icons/mfa.png   \n",
       "18510  https://toiletmap.gov.au/images/icons/mfa.png   \n",
       "\n",
       "                                   IconAltText      Status   Latitude  \\\n",
       "0      Male and Female, or Unisex (Accessible)    Verified -31.921836   \n",
       "1      Male and Female, or Unisex (Accessible)    Verified -31.904410   \n",
       "2      Male and Female, or Unisex (Accessible)    Verified -31.896289   \n",
       "3                   Male and Female, or Unisex    Verified -31.891474   \n",
       "4                   Male and Female, or Unisex    Verified -31.913433   \n",
       "...                                        ...         ...        ...   \n",
       "18506  Male and Female, or Unisex (Accessible)  Unverified -33.511611   \n",
       "18507  Male and Female, or Unisex (Accessible)  Unverified -33.673092   \n",
       "18508  Male and Female, or Unisex (Accessible)  Unverified -33.535167   \n",
       "18509  Male and Female, or Unisex (Accessible)  Unverified -33.532719   \n",
       "18510  Male and Female, or Unisex (Accessible)  Unverified -33.530255   \n",
       "\n",
       "        Longitude  \n",
       "0      115.950206  \n",
       "1      115.960991  \n",
       "2      115.955781  \n",
       "3      115.940164  \n",
       "4      115.936477  \n",
       "...           ...  \n",
       "18506  149.252924  \n",
       "18507  149.038286  \n",
       "18508  149.249597  \n",
       "18509  149.248753  \n",
       "18510  149.255096  \n",
       "\n",
       "[18511 rows x 39 columns]"
      ]
     },
     "execution_count": 141,
     "metadata": {},
     "output_type": "execute_result"
    }
   ],
   "source": [
    "df"
   ]
  },
  {
   "cell_type": "markdown",
   "metadata": {},
   "source": [
    "**In the end the number of null Values:**"
   ]
  },
  {
   "cell_type": "code",
   "execution_count": 144,
   "metadata": {},
   "outputs": [
    {
     "data": {
      "text/plain": [
       "ToiletID             0\n",
       "URL                  0\n",
       "Name                 0\n",
       "Address1             0\n",
       "Town                 0\n",
       "State                0\n",
       "Postcode             0\n",
       "Male                 0\n",
       "Female               0\n",
       "Unisex               0\n",
       "DumpPoint            0\n",
       "FacilityType         0\n",
       "ToiletType           0\n",
       "AccessLimited        0\n",
       "PaymentRequired      0\n",
       "KeyRequired          0\n",
       "Parking              0\n",
       "AccessibleMale       0\n",
       "AccessibleFemale     0\n",
       "AccessibleUnisex     0\n",
       "MLAK                 0\n",
       "ParkingAccessible    0\n",
       "Ambulant             0\n",
       "LHTransfer           0\n",
       "RHTransfer           0\n",
       "AdultChange          0\n",
       "ChangingPlaces       0\n",
       "IsOpen               0\n",
       "BabyChange           0\n",
       "BabyCareRoom         0\n",
       "Showers              0\n",
       "DrinkingWater        0\n",
       "SharpsDisposal       0\n",
       "SanitaryDisposal     0\n",
       "IconURL              0\n",
       "IconAltText          0\n",
       "Status               0\n",
       "Latitude             0\n",
       "Longitude            0\n",
       "dtype: int64"
      ]
     },
     "execution_count": 144,
     "metadata": {},
     "output_type": "execute_result"
    }
   ],
   "source": [
    "df.isnull().sum()"
   ]
  },
  {
   "cell_type": "code",
   "execution_count": 151,
   "metadata": {},
   "outputs": [],
   "source": [
    "df.to_csv(r'C:\\Users\\RAGHAVENDRA\\Desktop\\DataWiz\\toiletMap.csv')"
   ]
  },
  {
   "cell_type": "code",
   "execution_count": null,
   "metadata": {},
   "outputs": [],
   "source": []
  }
 ],
 "metadata": {
  "kernelspec": {
   "display_name": "Python 3",
   "language": "python",
   "name": "python3"
  },
  "language_info": {
   "codemirror_mode": {
    "name": "ipython",
    "version": 3
   },
   "file_extension": ".py",
   "mimetype": "text/x-python",
   "name": "python",
   "nbconvert_exporter": "python",
   "pygments_lexer": "ipython3",
   "version": "3.8.3"
  }
 },
 "nbformat": 4,
 "nbformat_minor": 4
}
